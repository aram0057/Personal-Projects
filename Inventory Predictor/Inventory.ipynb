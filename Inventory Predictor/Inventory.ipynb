{
  "metadata": {
    "kernelspec": {
      "name": "python",
      "display_name": "Python (Pyodide)",
      "language": "python"
    },
    "language_info": {
      "codemirror_mode": {
        "name": "python",
        "version": 3
      },
      "file_extension": ".py",
      "mimetype": "text/x-python",
      "name": "python",
      "nbconvert_exporter": "python",
      "pygments_lexer": "ipython3",
      "version": "3.8"
    }
  },
  "nbformat_minor": 4,
  "nbformat": 4,
  "cells": [
    {
      "cell_type": "code",
      "source": "import pandas as pd\nimport numpy as np\nfrom sklearn.model_selection import train_test_split\nfrom sklearn.ensemble import RandomForestRegressor\nfrom sklearn.metrics import mean_absolute_error, mean_squared_error\nfrom sklearn.preprocessing import OneHotEncoder",
      "metadata": {
        "trusted": true
      },
      "outputs": [],
      "execution_count": 86
    },
    {
      "cell_type": "code",
      "source": "data = pd.read_csv('salesReport.csv')\ndata.head()",
      "metadata": {
        "trusted": true
      },
      "outputs": [
        {
          "execution_count": 87,
          "output_type": "execute_result",
          "data": {
            "text/plain": "                                          Unnamed: 0 Unnamed: 1  \\\n0                                   KAMAK ASSOCIATES        NaN   \n1  LIST OF Items   PERIOD FROM 01-04-2024 TO 14-1...        NaN   \n2                                                NaN        NaN   \n3                                               S.No  Item Code   \n4                                                  1        AC1   \n\n        Unnamed: 2 Unnamed: 3 Unnamed: 4 Unnamed: 5 Unnamed: 6   Unnamed: 7  \\\n0              NaN        NaN        NaN        NaN        NaN          NaN   \n1              NaN        NaN        NaN        NaN        NaN          NaN   \n2              NaN        NaN        NaN        NaN        NaN          NaN   \n3        Item Name      Group      Brand      Model        MRP  Net Sal Qty   \n4  AIR CONDITIONER    Primary    Primary    Primary       5000          NaN   \n\n  Unnamed: 8 Unnamed: 9  \n0        NaN        NaN  \n1        NaN        NaN  \n2        NaN        NaN  \n3  Close Qty  Close Val  \n4          2        NaN  ",
            "text/html": "<div>\n<style scoped>\n    .dataframe tbody tr th:only-of-type {\n        vertical-align: middle;\n    }\n\n    .dataframe tbody tr th {\n        vertical-align: top;\n    }\n\n    .dataframe thead th {\n        text-align: right;\n    }\n</style>\n<table border=\"1\" class=\"dataframe\">\n  <thead>\n    <tr style=\"text-align: right;\">\n      <th></th>\n      <th>Unnamed: 0</th>\n      <th>Unnamed: 1</th>\n      <th>Unnamed: 2</th>\n      <th>Unnamed: 3</th>\n      <th>Unnamed: 4</th>\n      <th>Unnamed: 5</th>\n      <th>Unnamed: 6</th>\n      <th>Unnamed: 7</th>\n      <th>Unnamed: 8</th>\n      <th>Unnamed: 9</th>\n    </tr>\n  </thead>\n  <tbody>\n    <tr>\n      <th>0</th>\n      <td>KAMAK ASSOCIATES</td>\n      <td>NaN</td>\n      <td>NaN</td>\n      <td>NaN</td>\n      <td>NaN</td>\n      <td>NaN</td>\n      <td>NaN</td>\n      <td>NaN</td>\n      <td>NaN</td>\n      <td>NaN</td>\n    </tr>\n    <tr>\n      <th>1</th>\n      <td>LIST OF Items   PERIOD FROM 01-04-2024 TO 14-1...</td>\n      <td>NaN</td>\n      <td>NaN</td>\n      <td>NaN</td>\n      <td>NaN</td>\n      <td>NaN</td>\n      <td>NaN</td>\n      <td>NaN</td>\n      <td>NaN</td>\n      <td>NaN</td>\n    </tr>\n    <tr>\n      <th>2</th>\n      <td>NaN</td>\n      <td>NaN</td>\n      <td>NaN</td>\n      <td>NaN</td>\n      <td>NaN</td>\n      <td>NaN</td>\n      <td>NaN</td>\n      <td>NaN</td>\n      <td>NaN</td>\n      <td>NaN</td>\n    </tr>\n    <tr>\n      <th>3</th>\n      <td>S.No</td>\n      <td>Item Code</td>\n      <td>Item Name</td>\n      <td>Group</td>\n      <td>Brand</td>\n      <td>Model</td>\n      <td>MRP</td>\n      <td>Net Sal Qty</td>\n      <td>Close Qty</td>\n      <td>Close Val</td>\n    </tr>\n    <tr>\n      <th>4</th>\n      <td>1</td>\n      <td>AC1</td>\n      <td>AIR CONDITIONER</td>\n      <td>Primary</td>\n      <td>Primary</td>\n      <td>Primary</td>\n      <td>5000</td>\n      <td>NaN</td>\n      <td>2</td>\n      <td>NaN</td>\n    </tr>\n  </tbody>\n</table>\n</div>"
          },
          "metadata": {}
        }
      ],
      "execution_count": 87
    },
    {
      "cell_type": "code",
      "source": "data.columns = ['S.No',\t'Item Code','Item Name','Group','Brand','Model','MRP','Net Sal Qty','Close Qty','Close Val']\ndata = data.drop([0,1,2,3])",
      "metadata": {
        "trusted": true
      },
      "outputs": [],
      "execution_count": 88
    },
    {
      "cell_type": "code",
      "source": "data.head()\n",
      "metadata": {
        "trusted": true
      },
      "outputs": [
        {
          "execution_count": 89,
          "output_type": "execute_result",
          "data": {
            "text/plain": "  S.No Item Code                                    Item Name     Group  \\\n4    1       AC1                              AIR CONDITIONER   Primary   \n5    2   OP-11-S  BATHSENSE OP-11-S SINGLE PIECE S TRAP 220MM  SANITARY   \n6    3   OP-14-S  BATHSENSE OP-14-S SINGLE PIECE S TRAP 225MM  SANITARY   \n7    4      WT22                                  BOTTLE TRAP        CP   \n8    5      CS04             CARYSIL BIG BOWL SINK NERA 24x18  SANITARY   \n\n       Brand     Model    MRP Net Sal Qty Close Qty Close Val  \n4    Primary   Primary   5000         NaN         2       NaN  \n5    ESS ESS   Primary   9750           7         2       NaN  \n6    ESS ESS   Primary   9750         NaN         3       NaN  \n7  WATER-TEC   Primary    523          23         4    1195.2  \n8    CARYSIL  BIG BOWL  11550          14         2  12712.02  ",
            "text/html": "<div>\n<style scoped>\n    .dataframe tbody tr th:only-of-type {\n        vertical-align: middle;\n    }\n\n    .dataframe tbody tr th {\n        vertical-align: top;\n    }\n\n    .dataframe thead th {\n        text-align: right;\n    }\n</style>\n<table border=\"1\" class=\"dataframe\">\n  <thead>\n    <tr style=\"text-align: right;\">\n      <th></th>\n      <th>S.No</th>\n      <th>Item Code</th>\n      <th>Item Name</th>\n      <th>Group</th>\n      <th>Brand</th>\n      <th>Model</th>\n      <th>MRP</th>\n      <th>Net Sal Qty</th>\n      <th>Close Qty</th>\n      <th>Close Val</th>\n    </tr>\n  </thead>\n  <tbody>\n    <tr>\n      <th>4</th>\n      <td>1</td>\n      <td>AC1</td>\n      <td>AIR CONDITIONER</td>\n      <td>Primary</td>\n      <td>Primary</td>\n      <td>Primary</td>\n      <td>5000</td>\n      <td>NaN</td>\n      <td>2</td>\n      <td>NaN</td>\n    </tr>\n    <tr>\n      <th>5</th>\n      <td>2</td>\n      <td>OP-11-S</td>\n      <td>BATHSENSE OP-11-S SINGLE PIECE S TRAP 220MM</td>\n      <td>SANITARY</td>\n      <td>ESS ESS</td>\n      <td>Primary</td>\n      <td>9750</td>\n      <td>7</td>\n      <td>2</td>\n      <td>NaN</td>\n    </tr>\n    <tr>\n      <th>6</th>\n      <td>3</td>\n      <td>OP-14-S</td>\n      <td>BATHSENSE OP-14-S SINGLE PIECE S TRAP 225MM</td>\n      <td>SANITARY</td>\n      <td>ESS ESS</td>\n      <td>Primary</td>\n      <td>9750</td>\n      <td>NaN</td>\n      <td>3</td>\n      <td>NaN</td>\n    </tr>\n    <tr>\n      <th>7</th>\n      <td>4</td>\n      <td>WT22</td>\n      <td>BOTTLE TRAP</td>\n      <td>CP</td>\n      <td>WATER-TEC</td>\n      <td>Primary</td>\n      <td>523</td>\n      <td>23</td>\n      <td>4</td>\n      <td>1195.2</td>\n    </tr>\n    <tr>\n      <th>8</th>\n      <td>5</td>\n      <td>CS04</td>\n      <td>CARYSIL BIG BOWL SINK NERA 24x18</td>\n      <td>SANITARY</td>\n      <td>CARYSIL</td>\n      <td>BIG BOWL</td>\n      <td>11550</td>\n      <td>14</td>\n      <td>2</td>\n      <td>12712.02</td>\n    </tr>\n  </tbody>\n</table>\n</div>"
          },
          "metadata": {}
        }
      ],
      "execution_count": 89
    },
    {
      "cell_type": "code",
      "source": "print(data.info())\nprint(data.describe())",
      "metadata": {
        "trusted": true
      },
      "outputs": [
        {
          "name": "stdout",
          "text": "<class 'pandas.core.frame.DataFrame'>\nRangeIndex: 737 entries, 4 to 740\nData columns (total 10 columns):\n #   Column       Non-Null Count  Dtype \n---  ------       --------------  ----- \n 0   S.No         736 non-null    object\n 1   Item Code    736 non-null    object\n 2   Item Name    736 non-null    object\n 3   Group        736 non-null    object\n 4   Brand        736 non-null    object\n 5   Model        736 non-null    object\n 6   MRP          737 non-null    object\n 7   Net Sal Qty  383 non-null    object\n 8   Close Qty    737 non-null    object\n 9   Close Val    566 non-null    object\ndtypes: object(10)\nmemory usage: 28.9+ KB\nNone\n       S.No Item Code        Item Name Group      Brand    Model   MRP  \\\ncount   736       736              736   736        736      736   737   \nunique  736       736              736     7         14      237   495   \ntop       1       AC1  AIR CONDITIONER    CP  PARRYWARE  Primary  2000   \nfreq      1         1                1   367        344      197     8   \n\n       Net Sal Qty Close Qty Close Val  \ncount          383       737       566  \nunique          76        35       550  \ntop              1         1   1375.00  \nfreq            63       285         3  \n",
          "output_type": "stream"
        }
      ],
      "execution_count": 90
    },
    {
      "cell_type": "code",
      "source": "data.drop_duplicates(inplace=True)\nprint(data.isnull().sum())",
      "metadata": {
        "trusted": true
      },
      "outputs": [
        {
          "name": "stdout",
          "text": "S.No             1\nItem Code        1\nItem Name        1\nGroup            1\nBrand            1\nModel            1\nMRP              0\nNet Sal Qty    354\nClose Qty        0\nClose Val      171\ndtype: int64\n",
          "output_type": "stream"
        }
      ],
      "execution_count": 91
    },
    {
      "cell_type": "code",
      "source": "data.head()",
      "metadata": {
        "trusted": true
      },
      "outputs": [
        {
          "execution_count": 92,
          "output_type": "execute_result",
          "data": {
            "text/plain": "  S.No Item Code                                    Item Name     Group  \\\n4    1       AC1                              AIR CONDITIONER   Primary   \n5    2   OP-11-S  BATHSENSE OP-11-S SINGLE PIECE S TRAP 220MM  SANITARY   \n6    3   OP-14-S  BATHSENSE OP-14-S SINGLE PIECE S TRAP 225MM  SANITARY   \n7    4      WT22                                  BOTTLE TRAP        CP   \n8    5      CS04             CARYSIL BIG BOWL SINK NERA 24x18  SANITARY   \n\n       Brand     Model    MRP Net Sal Qty Close Qty Close Val  \n4    Primary   Primary   5000         NaN         2       NaN  \n5    ESS ESS   Primary   9750           7         2       NaN  \n6    ESS ESS   Primary   9750         NaN         3       NaN  \n7  WATER-TEC   Primary    523          23         4    1195.2  \n8    CARYSIL  BIG BOWL  11550          14         2  12712.02  ",
            "text/html": "<div>\n<style scoped>\n    .dataframe tbody tr th:only-of-type {\n        vertical-align: middle;\n    }\n\n    .dataframe tbody tr th {\n        vertical-align: top;\n    }\n\n    .dataframe thead th {\n        text-align: right;\n    }\n</style>\n<table border=\"1\" class=\"dataframe\">\n  <thead>\n    <tr style=\"text-align: right;\">\n      <th></th>\n      <th>S.No</th>\n      <th>Item Code</th>\n      <th>Item Name</th>\n      <th>Group</th>\n      <th>Brand</th>\n      <th>Model</th>\n      <th>MRP</th>\n      <th>Net Sal Qty</th>\n      <th>Close Qty</th>\n      <th>Close Val</th>\n    </tr>\n  </thead>\n  <tbody>\n    <tr>\n      <th>4</th>\n      <td>1</td>\n      <td>AC1</td>\n      <td>AIR CONDITIONER</td>\n      <td>Primary</td>\n      <td>Primary</td>\n      <td>Primary</td>\n      <td>5000</td>\n      <td>NaN</td>\n      <td>2</td>\n      <td>NaN</td>\n    </tr>\n    <tr>\n      <th>5</th>\n      <td>2</td>\n      <td>OP-11-S</td>\n      <td>BATHSENSE OP-11-S SINGLE PIECE S TRAP 220MM</td>\n      <td>SANITARY</td>\n      <td>ESS ESS</td>\n      <td>Primary</td>\n      <td>9750</td>\n      <td>7</td>\n      <td>2</td>\n      <td>NaN</td>\n    </tr>\n    <tr>\n      <th>6</th>\n      <td>3</td>\n      <td>OP-14-S</td>\n      <td>BATHSENSE OP-14-S SINGLE PIECE S TRAP 225MM</td>\n      <td>SANITARY</td>\n      <td>ESS ESS</td>\n      <td>Primary</td>\n      <td>9750</td>\n      <td>NaN</td>\n      <td>3</td>\n      <td>NaN</td>\n    </tr>\n    <tr>\n      <th>7</th>\n      <td>4</td>\n      <td>WT22</td>\n      <td>BOTTLE TRAP</td>\n      <td>CP</td>\n      <td>WATER-TEC</td>\n      <td>Primary</td>\n      <td>523</td>\n      <td>23</td>\n      <td>4</td>\n      <td>1195.2</td>\n    </tr>\n    <tr>\n      <th>8</th>\n      <td>5</td>\n      <td>CS04</td>\n      <td>CARYSIL BIG BOWL SINK NERA 24x18</td>\n      <td>SANITARY</td>\n      <td>CARYSIL</td>\n      <td>BIG BOWL</td>\n      <td>11550</td>\n      <td>14</td>\n      <td>2</td>\n      <td>12712.02</td>\n    </tr>\n  </tbody>\n</table>\n</div>"
          },
          "metadata": {}
        }
      ],
      "execution_count": 92
    },
    {
      "cell_type": "code",
      "source": "data.fillna(0, inplace=True)",
      "metadata": {
        "trusted": true
      },
      "outputs": [],
      "execution_count": 93
    },
    {
      "cell_type": "code",
      "source": "data.head()",
      "metadata": {
        "trusted": true
      },
      "outputs": [
        {
          "execution_count": 94,
          "output_type": "execute_result",
          "data": {
            "text/plain": "  S.No Item Code                                    Item Name     Group  \\\n4    1       AC1                              AIR CONDITIONER   Primary   \n5    2   OP-11-S  BATHSENSE OP-11-S SINGLE PIECE S TRAP 220MM  SANITARY   \n6    3   OP-14-S  BATHSENSE OP-14-S SINGLE PIECE S TRAP 225MM  SANITARY   \n7    4      WT22                                  BOTTLE TRAP        CP   \n8    5      CS04             CARYSIL BIG BOWL SINK NERA 24x18  SANITARY   \n\n       Brand     Model    MRP Net Sal Qty Close Qty Close Val  \n4    Primary   Primary   5000           0         2         0  \n5    ESS ESS   Primary   9750           7         2         0  \n6    ESS ESS   Primary   9750           0         3         0  \n7  WATER-TEC   Primary    523          23         4    1195.2  \n8    CARYSIL  BIG BOWL  11550          14         2  12712.02  ",
            "text/html": "<div>\n<style scoped>\n    .dataframe tbody tr th:only-of-type {\n        vertical-align: middle;\n    }\n\n    .dataframe tbody tr th {\n        vertical-align: top;\n    }\n\n    .dataframe thead th {\n        text-align: right;\n    }\n</style>\n<table border=\"1\" class=\"dataframe\">\n  <thead>\n    <tr style=\"text-align: right;\">\n      <th></th>\n      <th>S.No</th>\n      <th>Item Code</th>\n      <th>Item Name</th>\n      <th>Group</th>\n      <th>Brand</th>\n      <th>Model</th>\n      <th>MRP</th>\n      <th>Net Sal Qty</th>\n      <th>Close Qty</th>\n      <th>Close Val</th>\n    </tr>\n  </thead>\n  <tbody>\n    <tr>\n      <th>4</th>\n      <td>1</td>\n      <td>AC1</td>\n      <td>AIR CONDITIONER</td>\n      <td>Primary</td>\n      <td>Primary</td>\n      <td>Primary</td>\n      <td>5000</td>\n      <td>0</td>\n      <td>2</td>\n      <td>0</td>\n    </tr>\n    <tr>\n      <th>5</th>\n      <td>2</td>\n      <td>OP-11-S</td>\n      <td>BATHSENSE OP-11-S SINGLE PIECE S TRAP 220MM</td>\n      <td>SANITARY</td>\n      <td>ESS ESS</td>\n      <td>Primary</td>\n      <td>9750</td>\n      <td>7</td>\n      <td>2</td>\n      <td>0</td>\n    </tr>\n    <tr>\n      <th>6</th>\n      <td>3</td>\n      <td>OP-14-S</td>\n      <td>BATHSENSE OP-14-S SINGLE PIECE S TRAP 225MM</td>\n      <td>SANITARY</td>\n      <td>ESS ESS</td>\n      <td>Primary</td>\n      <td>9750</td>\n      <td>0</td>\n      <td>3</td>\n      <td>0</td>\n    </tr>\n    <tr>\n      <th>7</th>\n      <td>4</td>\n      <td>WT22</td>\n      <td>BOTTLE TRAP</td>\n      <td>CP</td>\n      <td>WATER-TEC</td>\n      <td>Primary</td>\n      <td>523</td>\n      <td>23</td>\n      <td>4</td>\n      <td>1195.2</td>\n    </tr>\n    <tr>\n      <th>8</th>\n      <td>5</td>\n      <td>CS04</td>\n      <td>CARYSIL BIG BOWL SINK NERA 24x18</td>\n      <td>SANITARY</td>\n      <td>CARYSIL</td>\n      <td>BIG BOWL</td>\n      <td>11550</td>\n      <td>14</td>\n      <td>2</td>\n      <td>12712.02</td>\n    </tr>\n  </tbody>\n</table>\n</div>"
          },
          "metadata": {}
        }
      ],
      "execution_count": 94
    },
    {
      "cell_type": "code",
      "source": "df= data",
      "metadata": {
        "trusted": true
      },
      "outputs": [],
      "execution_count": 95
    },
    {
      "cell_type": "code",
      "source": "df['Sales Quantity'] = df['Net Sal Qty']  # Already exists in your dataset\n",
      "metadata": {
        "trusted": true
      },
      "outputs": [],
      "execution_count": 96
    },
    {
      "cell_type": "code",
      "source": "df['Current Stock Level'] = df['Close Qty']  # Already exists in your dataset\n",
      "metadata": {
        "trusted": true
      },
      "outputs": [],
      "execution_count": 97
    },
    {
      "cell_type": "code",
      "source": "df['Sales Revenue'] = df['Net Sal Qty'] * df['MRP']\n",
      "metadata": {
        "trusted": true
      },
      "outputs": [
        {
          "ename": "<class 'TypeError'>",
          "evalue": "can't multiply sequence by non-int of type 'str'",
          "traceback": [
            "\u001b[0;31m---------------------------------------------------------------------------\u001b[0m",
            "\u001b[0;31mTypeError\u001b[0m                                 Traceback (most recent call last)",
            "File \u001b[0;32m/lib/python3.12/site-packages/pandas/core/ops/array_ops.py:218\u001b[0m, in \u001b[0;36m_na_arithmetic_op\u001b[0;34m(left, right, op, is_cmp)\u001b[0m\n\u001b[1;32m    217\u001b[0m \u001b[38;5;28;01mtry\u001b[39;00m:\n\u001b[0;32m--> 218\u001b[0m     result \u001b[38;5;241m=\u001b[39m \u001b[43mfunc\u001b[49m\u001b[43m(\u001b[49m\u001b[43mleft\u001b[49m\u001b[43m,\u001b[49m\u001b[43m \u001b[49m\u001b[43mright\u001b[49m\u001b[43m)\u001b[49m\n\u001b[1;32m    219\u001b[0m \u001b[38;5;28;01mexcept\u001b[39;00m \u001b[38;5;167;01mTypeError\u001b[39;00m:\n",
            "File \u001b[0;32m/lib/python3.12/site-packages/pandas/core/computation/expressions.py:242\u001b[0m, in \u001b[0;36mevaluate\u001b[0;34m(op, a, b, use_numexpr)\u001b[0m\n\u001b[1;32m    240\u001b[0m     \u001b[38;5;28;01mif\u001b[39;00m use_numexpr:\n\u001b[1;32m    241\u001b[0m         \u001b[38;5;66;03m# error: \"None\" not callable\u001b[39;00m\n\u001b[0;32m--> 242\u001b[0m         \u001b[38;5;28;01mreturn\u001b[39;00m \u001b[43m_evaluate\u001b[49m\u001b[43m(\u001b[49m\u001b[43mop\u001b[49m\u001b[43m,\u001b[49m\u001b[43m \u001b[49m\u001b[43mop_str\u001b[49m\u001b[43m,\u001b[49m\u001b[43m \u001b[49m\u001b[43ma\u001b[49m\u001b[43m,\u001b[49m\u001b[43m \u001b[49m\u001b[43mb\u001b[49m\u001b[43m)\u001b[49m  \u001b[38;5;66;03m# type: ignore[misc]\u001b[39;00m\n\u001b[1;32m    243\u001b[0m \u001b[38;5;28;01mreturn\u001b[39;00m _evaluate_standard(op, op_str, a, b)\n",
            "File \u001b[0;32m/lib/python3.12/site-packages/pandas/core/computation/expressions.py:73\u001b[0m, in \u001b[0;36m_evaluate_standard\u001b[0;34m(op, op_str, a, b)\u001b[0m\n\u001b[1;32m     72\u001b[0m     _store_test_result(\u001b[38;5;28;01mFalse\u001b[39;00m)\n\u001b[0;32m---> 73\u001b[0m \u001b[38;5;28;01mreturn\u001b[39;00m \u001b[43mop\u001b[49m\u001b[43m(\u001b[49m\u001b[43ma\u001b[49m\u001b[43m,\u001b[49m\u001b[43m \u001b[49m\u001b[43mb\u001b[49m\u001b[43m)\u001b[49m\n",
            "\u001b[0;31mTypeError\u001b[0m: can't multiply sequence by non-int of type 'str'",
            "\nDuring handling of the above exception, another exception occurred:\n",
            "\u001b[0;31mTypeError\u001b[0m                                 Traceback (most recent call last)",
            "Cell \u001b[0;32mIn[98], line 1\u001b[0m\n\u001b[0;32m----> 1\u001b[0m df[\u001b[38;5;124m'\u001b[39m\u001b[38;5;124mSales Revenue\u001b[39m\u001b[38;5;124m'\u001b[39m] \u001b[38;5;241m=\u001b[39m \u001b[43mdf\u001b[49m\u001b[43m[\u001b[49m\u001b[38;5;124;43m'\u001b[39;49m\u001b[38;5;124;43mNet Sal Qty\u001b[39;49m\u001b[38;5;124;43m'\u001b[39;49m\u001b[43m]\u001b[49m\u001b[43m \u001b[49m\u001b[38;5;241;43m*\u001b[39;49m\u001b[43m \u001b[49m\u001b[43mdf\u001b[49m\u001b[43m[\u001b[49m\u001b[38;5;124;43m'\u001b[39;49m\u001b[38;5;124;43mMRP\u001b[39;49m\u001b[38;5;124;43m'\u001b[39;49m\u001b[43m]\u001b[49m\n",
            "File \u001b[0;32m/lib/python3.12/site-packages/pandas/core/ops/common.py:76\u001b[0m, in \u001b[0;36m_unpack_zerodim_and_defer.<locals>.new_method\u001b[0;34m(self, other)\u001b[0m\n\u001b[1;32m     72\u001b[0m             \u001b[38;5;28;01mreturn\u001b[39;00m \u001b[38;5;28mNotImplemented\u001b[39m\n\u001b[1;32m     74\u001b[0m other \u001b[38;5;241m=\u001b[39m item_from_zerodim(other)\n\u001b[0;32m---> 76\u001b[0m \u001b[38;5;28;01mreturn\u001b[39;00m \u001b[43mmethod\u001b[49m\u001b[43m(\u001b[49m\u001b[38;5;28;43mself\u001b[39;49m\u001b[43m,\u001b[49m\u001b[43m \u001b[49m\u001b[43mother\u001b[49m\u001b[43m)\u001b[49m\n",
            "File \u001b[0;32m/lib/python3.12/site-packages/pandas/core/arraylike.py:202\u001b[0m, in \u001b[0;36mOpsMixin.__mul__\u001b[0;34m(self, other)\u001b[0m\n\u001b[1;32m    200\u001b[0m \u001b[38;5;129m@unpack_zerodim_and_defer\u001b[39m(\u001b[38;5;124m\"\u001b[39m\u001b[38;5;124m__mul__\u001b[39m\u001b[38;5;124m\"\u001b[39m)\n\u001b[1;32m    201\u001b[0m \u001b[38;5;28;01mdef\u001b[39;00m \u001b[38;5;21m__mul__\u001b[39m(\u001b[38;5;28mself\u001b[39m, other):\n\u001b[0;32m--> 202\u001b[0m     \u001b[38;5;28;01mreturn\u001b[39;00m \u001b[38;5;28;43mself\u001b[39;49m\u001b[38;5;241;43m.\u001b[39;49m\u001b[43m_arith_method\u001b[49m\u001b[43m(\u001b[49m\u001b[43mother\u001b[49m\u001b[43m,\u001b[49m\u001b[43m \u001b[49m\u001b[43moperator\u001b[49m\u001b[38;5;241;43m.\u001b[39;49m\u001b[43mmul\u001b[49m\u001b[43m)\u001b[49m\n",
            "File \u001b[0;32m/lib/python3.12/site-packages/pandas/core/series.py:6115\u001b[0m, in \u001b[0;36mSeries._arith_method\u001b[0;34m(self, other, op)\u001b[0m\n\u001b[1;32m   6113\u001b[0m \u001b[38;5;28;01mdef\u001b[39;00m \u001b[38;5;21m_arith_method\u001b[39m(\u001b[38;5;28mself\u001b[39m, other, op):\n\u001b[1;32m   6114\u001b[0m     \u001b[38;5;28mself\u001b[39m, other \u001b[38;5;241m=\u001b[39m \u001b[38;5;28mself\u001b[39m\u001b[38;5;241m.\u001b[39m_align_for_op(other)\n\u001b[0;32m-> 6115\u001b[0m     \u001b[38;5;28;01mreturn\u001b[39;00m \u001b[43mbase\u001b[49m\u001b[38;5;241;43m.\u001b[39;49m\u001b[43mIndexOpsMixin\u001b[49m\u001b[38;5;241;43m.\u001b[39;49m\u001b[43m_arith_method\u001b[49m\u001b[43m(\u001b[49m\u001b[38;5;28;43mself\u001b[39;49m\u001b[43m,\u001b[49m\u001b[43m \u001b[49m\u001b[43mother\u001b[49m\u001b[43m,\u001b[49m\u001b[43m \u001b[49m\u001b[43mop\u001b[49m\u001b[43m)\u001b[49m\n",
            "File \u001b[0;32m/lib/python3.12/site-packages/pandas/core/base.py:1382\u001b[0m, in \u001b[0;36mIndexOpsMixin._arith_method\u001b[0;34m(self, other, op)\u001b[0m\n\u001b[1;32m   1379\u001b[0m     rvalues \u001b[38;5;241m=\u001b[39m np\u001b[38;5;241m.\u001b[39marange(rvalues\u001b[38;5;241m.\u001b[39mstart, rvalues\u001b[38;5;241m.\u001b[39mstop, rvalues\u001b[38;5;241m.\u001b[39mstep)\n\u001b[1;32m   1381\u001b[0m \u001b[38;5;28;01mwith\u001b[39;00m np\u001b[38;5;241m.\u001b[39merrstate(\u001b[38;5;28mall\u001b[39m\u001b[38;5;241m=\u001b[39m\u001b[38;5;124m\"\u001b[39m\u001b[38;5;124mignore\u001b[39m\u001b[38;5;124m\"\u001b[39m):\n\u001b[0;32m-> 1382\u001b[0m     result \u001b[38;5;241m=\u001b[39m \u001b[43mops\u001b[49m\u001b[38;5;241;43m.\u001b[39;49m\u001b[43marithmetic_op\u001b[49m\u001b[43m(\u001b[49m\u001b[43mlvalues\u001b[49m\u001b[43m,\u001b[49m\u001b[43m \u001b[49m\u001b[43mrvalues\u001b[49m\u001b[43m,\u001b[49m\u001b[43m \u001b[49m\u001b[43mop\u001b[49m\u001b[43m)\u001b[49m\n\u001b[1;32m   1384\u001b[0m \u001b[38;5;28;01mreturn\u001b[39;00m \u001b[38;5;28mself\u001b[39m\u001b[38;5;241m.\u001b[39m_construct_result(result, name\u001b[38;5;241m=\u001b[39mres_name)\n",
            "File \u001b[0;32m/lib/python3.12/site-packages/pandas/core/ops/array_ops.py:283\u001b[0m, in \u001b[0;36marithmetic_op\u001b[0;34m(left, right, op)\u001b[0m\n\u001b[1;32m    279\u001b[0m     _bool_arith_check(op, left, right)  \u001b[38;5;66;03m# type: ignore[arg-type]\u001b[39;00m\n\u001b[1;32m    281\u001b[0m     \u001b[38;5;66;03m# error: Argument 1 to \"_na_arithmetic_op\" has incompatible type\u001b[39;00m\n\u001b[1;32m    282\u001b[0m     \u001b[38;5;66;03m# \"Union[ExtensionArray, ndarray[Any, Any]]\"; expected \"ndarray[Any, Any]\"\u001b[39;00m\n\u001b[0;32m--> 283\u001b[0m     res_values \u001b[38;5;241m=\u001b[39m \u001b[43m_na_arithmetic_op\u001b[49m\u001b[43m(\u001b[49m\u001b[43mleft\u001b[49m\u001b[43m,\u001b[49m\u001b[43m \u001b[49m\u001b[43mright\u001b[49m\u001b[43m,\u001b[49m\u001b[43m \u001b[49m\u001b[43mop\u001b[49m\u001b[43m)\u001b[49m  \u001b[38;5;66;03m# type: ignore[arg-type]\u001b[39;00m\n\u001b[1;32m    285\u001b[0m \u001b[38;5;28;01mreturn\u001b[39;00m res_values\n",
            "File \u001b[0;32m/lib/python3.12/site-packages/pandas/core/ops/array_ops.py:227\u001b[0m, in \u001b[0;36m_na_arithmetic_op\u001b[0;34m(left, right, op, is_cmp)\u001b[0m\n\u001b[1;32m    219\u001b[0m \u001b[38;5;28;01mexcept\u001b[39;00m \u001b[38;5;167;01mTypeError\u001b[39;00m:\n\u001b[1;32m    220\u001b[0m     \u001b[38;5;28;01mif\u001b[39;00m \u001b[38;5;129;01mnot\u001b[39;00m is_cmp \u001b[38;5;129;01mand\u001b[39;00m (\n\u001b[1;32m    221\u001b[0m         left\u001b[38;5;241m.\u001b[39mdtype \u001b[38;5;241m==\u001b[39m \u001b[38;5;28mobject\u001b[39m \u001b[38;5;129;01mor\u001b[39;00m \u001b[38;5;28mgetattr\u001b[39m(right, \u001b[38;5;124m\"\u001b[39m\u001b[38;5;124mdtype\u001b[39m\u001b[38;5;124m\"\u001b[39m, \u001b[38;5;28;01mNone\u001b[39;00m) \u001b[38;5;241m==\u001b[39m \u001b[38;5;28mobject\u001b[39m\n\u001b[1;32m    222\u001b[0m     ):\n\u001b[0;32m   (...)\u001b[0m\n\u001b[1;32m    225\u001b[0m         \u001b[38;5;66;03m# Don't do this for comparisons, as that will handle complex numbers\u001b[39;00m\n\u001b[1;32m    226\u001b[0m         \u001b[38;5;66;03m#  incorrectly, see GH#32047\u001b[39;00m\n\u001b[0;32m--> 227\u001b[0m         result \u001b[38;5;241m=\u001b[39m \u001b[43m_masked_arith_op\u001b[49m\u001b[43m(\u001b[49m\u001b[43mleft\u001b[49m\u001b[43m,\u001b[49m\u001b[43m \u001b[49m\u001b[43mright\u001b[49m\u001b[43m,\u001b[49m\u001b[43m \u001b[49m\u001b[43mop\u001b[49m\u001b[43m)\u001b[49m\n\u001b[1;32m    228\u001b[0m     \u001b[38;5;28;01melse\u001b[39;00m:\n\u001b[1;32m    229\u001b[0m         \u001b[38;5;28;01mraise\u001b[39;00m\n",
            "File \u001b[0;32m/lib/python3.12/site-packages/pandas/core/ops/array_ops.py:163\u001b[0m, in \u001b[0;36m_masked_arith_op\u001b[0;34m(x, y, op)\u001b[0m\n\u001b[1;32m    161\u001b[0m     \u001b[38;5;66;03m# See GH#5284, GH#5035, GH#19448 for historical reference\u001b[39;00m\n\u001b[1;32m    162\u001b[0m     \u001b[38;5;28;01mif\u001b[39;00m mask\u001b[38;5;241m.\u001b[39many():\n\u001b[0;32m--> 163\u001b[0m         result[mask] \u001b[38;5;241m=\u001b[39m \u001b[43mop\u001b[49m\u001b[43m(\u001b[49m\u001b[43mxrav\u001b[49m\u001b[43m[\u001b[49m\u001b[43mmask\u001b[49m\u001b[43m]\u001b[49m\u001b[43m,\u001b[49m\u001b[43m \u001b[49m\u001b[43myrav\u001b[49m\u001b[43m[\u001b[49m\u001b[43mmask\u001b[49m\u001b[43m]\u001b[49m\u001b[43m)\u001b[49m\n\u001b[1;32m    165\u001b[0m \u001b[38;5;28;01melse\u001b[39;00m:\n\u001b[1;32m    166\u001b[0m     \u001b[38;5;28;01mif\u001b[39;00m \u001b[38;5;129;01mnot\u001b[39;00m is_scalar(y):\n",
            "\u001b[0;31mTypeError\u001b[0m: can't multiply sequence by non-int of type 'str'"
          ],
          "output_type": "error"
        }
      ],
      "execution_count": 98
    },
    {
      "cell_type": "code",
      "source": "print(df.dtypes)\n",
      "metadata": {
        "trusted": true
      },
      "outputs": [
        {
          "name": "stdout",
          "text": "S.No                   object\nItem Code              object\nItem Name              object\nGroup                  object\nBrand                  object\nModel                  object\nMRP                    object\nNet Sal Qty            object\nClose Qty              object\nClose Val              object\nSales Quantity         object\nCurrent Stock Level    object\ndtype: object\n",
          "output_type": "stream"
        }
      ],
      "execution_count": 99
    },
    {
      "cell_type": "code",
      "source": "df['Net Sal Qty'] = pd.to_numeric(df['Net Sal Qty'], errors='coerce')\ndf['MRP'] = pd.to_numeric(df['MRP'], errors='coerce')\n",
      "metadata": {
        "trusted": true
      },
      "outputs": [],
      "execution_count": 100
    },
    {
      "cell_type": "code",
      "source": "print(df.isna().sum())\n",
      "metadata": {
        "trusted": true
      },
      "outputs": [
        {
          "name": "stdout",
          "text": "S.No                   0\nItem Code              0\nItem Name              0\nGroup                  0\nBrand                  0\nModel                  0\nMRP                    0\nNet Sal Qty            2\nClose Qty              0\nClose Val              0\nSales Quantity         0\nCurrent Stock Level    0\ndtype: int64\n",
          "output_type": "stream"
        }
      ],
      "execution_count": 101
    },
    {
      "cell_type": "code",
      "source": "df['Net Sal Qty'].fillna(0, inplace=True)\ndf['MRP'].fillna(0, inplace=True)\n",
      "metadata": {
        "trusted": true
      },
      "outputs": [
        {
          "name": "stderr",
          "text": "<ipython-input-102-fcf730bc1d5e>:1: FutureWarning: A value is trying to be set on a copy of a DataFrame or Series through chained assignment using an inplace method.\nThe behavior will change in pandas 3.0. This inplace method will never work because the intermediate object on which we are setting values always behaves as a copy.\n\nFor example, when doing 'df[col].method(value, inplace=True)', try using 'df.method({col: value}, inplace=True)' or df[col] = df[col].method(value) instead, to perform the operation inplace on the original object.\n\n\n  df['Net Sal Qty'].fillna(0, inplace=True)\n<ipython-input-102-fcf730bc1d5e>:2: FutureWarning: A value is trying to be set on a copy of a DataFrame or Series through chained assignment using an inplace method.\nThe behavior will change in pandas 3.0. This inplace method will never work because the intermediate object on which we are setting values always behaves as a copy.\n\nFor example, when doing 'df[col].method(value, inplace=True)', try using 'df.method({col: value}, inplace=True)' or df[col] = df[col].method(value) instead, to perform the operation inplace on the original object.\n\n\n  df['MRP'].fillna(0, inplace=True)\n",
          "output_type": "stream"
        }
      ],
      "execution_count": 102
    },
    {
      "cell_type": "code",
      "source": "df['Sales Revenue'] = df['Net Sal Qty'] * df['MRP']\n",
      "metadata": {
        "trusted": true
      },
      "outputs": [],
      "execution_count": 103
    },
    {
      "cell_type": "code",
      "source": "df['Stock Turnover Rate'] = df['Sales Quantity'] / df['Current Stock Level']\n",
      "metadata": {
        "trusted": true
      },
      "outputs": [
        {
          "ename": "<class 'TypeError'>",
          "evalue": "unsupported operand type(s) for /: 'int' and 'str'",
          "traceback": [
            "\u001b[0;31m---------------------------------------------------------------------------\u001b[0m",
            "\u001b[0;31mTypeError\u001b[0m                                 Traceback (most recent call last)",
            "File \u001b[0;32m/lib/python3.12/site-packages/pandas/core/ops/array_ops.py:218\u001b[0m, in \u001b[0;36m_na_arithmetic_op\u001b[0;34m(left, right, op, is_cmp)\u001b[0m\n\u001b[1;32m    217\u001b[0m \u001b[38;5;28;01mtry\u001b[39;00m:\n\u001b[0;32m--> 218\u001b[0m     result \u001b[38;5;241m=\u001b[39m \u001b[43mfunc\u001b[49m\u001b[43m(\u001b[49m\u001b[43mleft\u001b[49m\u001b[43m,\u001b[49m\u001b[43m \u001b[49m\u001b[43mright\u001b[49m\u001b[43m)\u001b[49m\n\u001b[1;32m    219\u001b[0m \u001b[38;5;28;01mexcept\u001b[39;00m \u001b[38;5;167;01mTypeError\u001b[39;00m:\n",
            "File \u001b[0;32m/lib/python3.12/site-packages/pandas/core/computation/expressions.py:242\u001b[0m, in \u001b[0;36mevaluate\u001b[0;34m(op, a, b, use_numexpr)\u001b[0m\n\u001b[1;32m    240\u001b[0m     \u001b[38;5;28;01mif\u001b[39;00m use_numexpr:\n\u001b[1;32m    241\u001b[0m         \u001b[38;5;66;03m# error: \"None\" not callable\u001b[39;00m\n\u001b[0;32m--> 242\u001b[0m         \u001b[38;5;28;01mreturn\u001b[39;00m \u001b[43m_evaluate\u001b[49m\u001b[43m(\u001b[49m\u001b[43mop\u001b[49m\u001b[43m,\u001b[49m\u001b[43m \u001b[49m\u001b[43mop_str\u001b[49m\u001b[43m,\u001b[49m\u001b[43m \u001b[49m\u001b[43ma\u001b[49m\u001b[43m,\u001b[49m\u001b[43m \u001b[49m\u001b[43mb\u001b[49m\u001b[43m)\u001b[49m  \u001b[38;5;66;03m# type: ignore[misc]\u001b[39;00m\n\u001b[1;32m    243\u001b[0m \u001b[38;5;28;01mreturn\u001b[39;00m _evaluate_standard(op, op_str, a, b)\n",
            "File \u001b[0;32m/lib/python3.12/site-packages/pandas/core/computation/expressions.py:73\u001b[0m, in \u001b[0;36m_evaluate_standard\u001b[0;34m(op, op_str, a, b)\u001b[0m\n\u001b[1;32m     72\u001b[0m     _store_test_result(\u001b[38;5;28;01mFalse\u001b[39;00m)\n\u001b[0;32m---> 73\u001b[0m \u001b[38;5;28;01mreturn\u001b[39;00m \u001b[43mop\u001b[49m\u001b[43m(\u001b[49m\u001b[43ma\u001b[49m\u001b[43m,\u001b[49m\u001b[43m \u001b[49m\u001b[43mb\u001b[49m\u001b[43m)\u001b[49m\n",
            "\u001b[0;31mTypeError\u001b[0m: unsupported operand type(s) for /: 'int' and 'str'",
            "\nDuring handling of the above exception, another exception occurred:\n",
            "\u001b[0;31mTypeError\u001b[0m                                 Traceback (most recent call last)",
            "Cell \u001b[0;32mIn[104], line 1\u001b[0m\n\u001b[0;32m----> 1\u001b[0m df[\u001b[38;5;124m'\u001b[39m\u001b[38;5;124mStock Turnover Rate\u001b[39m\u001b[38;5;124m'\u001b[39m] \u001b[38;5;241m=\u001b[39m \u001b[43mdf\u001b[49m\u001b[43m[\u001b[49m\u001b[38;5;124;43m'\u001b[39;49m\u001b[38;5;124;43mSales Quantity\u001b[39;49m\u001b[38;5;124;43m'\u001b[39;49m\u001b[43m]\u001b[49m\u001b[43m \u001b[49m\u001b[38;5;241;43m/\u001b[39;49m\u001b[43m \u001b[49m\u001b[43mdf\u001b[49m\u001b[43m[\u001b[49m\u001b[38;5;124;43m'\u001b[39;49m\u001b[38;5;124;43mCurrent Stock Level\u001b[39;49m\u001b[38;5;124;43m'\u001b[39;49m\u001b[43m]\u001b[49m\n",
            "File \u001b[0;32m/lib/python3.12/site-packages/pandas/core/ops/common.py:76\u001b[0m, in \u001b[0;36m_unpack_zerodim_and_defer.<locals>.new_method\u001b[0;34m(self, other)\u001b[0m\n\u001b[1;32m     72\u001b[0m             \u001b[38;5;28;01mreturn\u001b[39;00m \u001b[38;5;28mNotImplemented\u001b[39m\n\u001b[1;32m     74\u001b[0m other \u001b[38;5;241m=\u001b[39m item_from_zerodim(other)\n\u001b[0;32m---> 76\u001b[0m \u001b[38;5;28;01mreturn\u001b[39;00m \u001b[43mmethod\u001b[49m\u001b[43m(\u001b[49m\u001b[38;5;28;43mself\u001b[39;49m\u001b[43m,\u001b[49m\u001b[43m \u001b[49m\u001b[43mother\u001b[49m\u001b[43m)\u001b[49m\n",
            "File \u001b[0;32m/lib/python3.12/site-packages/pandas/core/arraylike.py:210\u001b[0m, in \u001b[0;36mOpsMixin.__truediv__\u001b[0;34m(self, other)\u001b[0m\n\u001b[1;32m    208\u001b[0m \u001b[38;5;129m@unpack_zerodim_and_defer\u001b[39m(\u001b[38;5;124m\"\u001b[39m\u001b[38;5;124m__truediv__\u001b[39m\u001b[38;5;124m\"\u001b[39m)\n\u001b[1;32m    209\u001b[0m \u001b[38;5;28;01mdef\u001b[39;00m \u001b[38;5;21m__truediv__\u001b[39m(\u001b[38;5;28mself\u001b[39m, other):\n\u001b[0;32m--> 210\u001b[0m     \u001b[38;5;28;01mreturn\u001b[39;00m \u001b[38;5;28;43mself\u001b[39;49m\u001b[38;5;241;43m.\u001b[39;49m\u001b[43m_arith_method\u001b[49m\u001b[43m(\u001b[49m\u001b[43mother\u001b[49m\u001b[43m,\u001b[49m\u001b[43m \u001b[49m\u001b[43moperator\u001b[49m\u001b[38;5;241;43m.\u001b[39;49m\u001b[43mtruediv\u001b[49m\u001b[43m)\u001b[49m\n",
            "File \u001b[0;32m/lib/python3.12/site-packages/pandas/core/series.py:6115\u001b[0m, in \u001b[0;36mSeries._arith_method\u001b[0;34m(self, other, op)\u001b[0m\n\u001b[1;32m   6113\u001b[0m \u001b[38;5;28;01mdef\u001b[39;00m \u001b[38;5;21m_arith_method\u001b[39m(\u001b[38;5;28mself\u001b[39m, other, op):\n\u001b[1;32m   6114\u001b[0m     \u001b[38;5;28mself\u001b[39m, other \u001b[38;5;241m=\u001b[39m \u001b[38;5;28mself\u001b[39m\u001b[38;5;241m.\u001b[39m_align_for_op(other)\n\u001b[0;32m-> 6115\u001b[0m     \u001b[38;5;28;01mreturn\u001b[39;00m \u001b[43mbase\u001b[49m\u001b[38;5;241;43m.\u001b[39;49m\u001b[43mIndexOpsMixin\u001b[49m\u001b[38;5;241;43m.\u001b[39;49m\u001b[43m_arith_method\u001b[49m\u001b[43m(\u001b[49m\u001b[38;5;28;43mself\u001b[39;49m\u001b[43m,\u001b[49m\u001b[43m \u001b[49m\u001b[43mother\u001b[49m\u001b[43m,\u001b[49m\u001b[43m \u001b[49m\u001b[43mop\u001b[49m\u001b[43m)\u001b[49m\n",
            "File \u001b[0;32m/lib/python3.12/site-packages/pandas/core/base.py:1382\u001b[0m, in \u001b[0;36mIndexOpsMixin._arith_method\u001b[0;34m(self, other, op)\u001b[0m\n\u001b[1;32m   1379\u001b[0m     rvalues \u001b[38;5;241m=\u001b[39m np\u001b[38;5;241m.\u001b[39marange(rvalues\u001b[38;5;241m.\u001b[39mstart, rvalues\u001b[38;5;241m.\u001b[39mstop, rvalues\u001b[38;5;241m.\u001b[39mstep)\n\u001b[1;32m   1381\u001b[0m \u001b[38;5;28;01mwith\u001b[39;00m np\u001b[38;5;241m.\u001b[39merrstate(\u001b[38;5;28mall\u001b[39m\u001b[38;5;241m=\u001b[39m\u001b[38;5;124m\"\u001b[39m\u001b[38;5;124mignore\u001b[39m\u001b[38;5;124m\"\u001b[39m):\n\u001b[0;32m-> 1382\u001b[0m     result \u001b[38;5;241m=\u001b[39m \u001b[43mops\u001b[49m\u001b[38;5;241;43m.\u001b[39;49m\u001b[43marithmetic_op\u001b[49m\u001b[43m(\u001b[49m\u001b[43mlvalues\u001b[49m\u001b[43m,\u001b[49m\u001b[43m \u001b[49m\u001b[43mrvalues\u001b[49m\u001b[43m,\u001b[49m\u001b[43m \u001b[49m\u001b[43mop\u001b[49m\u001b[43m)\u001b[49m\n\u001b[1;32m   1384\u001b[0m \u001b[38;5;28;01mreturn\u001b[39;00m \u001b[38;5;28mself\u001b[39m\u001b[38;5;241m.\u001b[39m_construct_result(result, name\u001b[38;5;241m=\u001b[39mres_name)\n",
            "File \u001b[0;32m/lib/python3.12/site-packages/pandas/core/ops/array_ops.py:283\u001b[0m, in \u001b[0;36marithmetic_op\u001b[0;34m(left, right, op)\u001b[0m\n\u001b[1;32m    279\u001b[0m     _bool_arith_check(op, left, right)  \u001b[38;5;66;03m# type: ignore[arg-type]\u001b[39;00m\n\u001b[1;32m    281\u001b[0m     \u001b[38;5;66;03m# error: Argument 1 to \"_na_arithmetic_op\" has incompatible type\u001b[39;00m\n\u001b[1;32m    282\u001b[0m     \u001b[38;5;66;03m# \"Union[ExtensionArray, ndarray[Any, Any]]\"; expected \"ndarray[Any, Any]\"\u001b[39;00m\n\u001b[0;32m--> 283\u001b[0m     res_values \u001b[38;5;241m=\u001b[39m \u001b[43m_na_arithmetic_op\u001b[49m\u001b[43m(\u001b[49m\u001b[43mleft\u001b[49m\u001b[43m,\u001b[49m\u001b[43m \u001b[49m\u001b[43mright\u001b[49m\u001b[43m,\u001b[49m\u001b[43m \u001b[49m\u001b[43mop\u001b[49m\u001b[43m)\u001b[49m  \u001b[38;5;66;03m# type: ignore[arg-type]\u001b[39;00m\n\u001b[1;32m    285\u001b[0m \u001b[38;5;28;01mreturn\u001b[39;00m res_values\n",
            "File \u001b[0;32m/lib/python3.12/site-packages/pandas/core/ops/array_ops.py:227\u001b[0m, in \u001b[0;36m_na_arithmetic_op\u001b[0;34m(left, right, op, is_cmp)\u001b[0m\n\u001b[1;32m    219\u001b[0m \u001b[38;5;28;01mexcept\u001b[39;00m \u001b[38;5;167;01mTypeError\u001b[39;00m:\n\u001b[1;32m    220\u001b[0m     \u001b[38;5;28;01mif\u001b[39;00m \u001b[38;5;129;01mnot\u001b[39;00m is_cmp \u001b[38;5;129;01mand\u001b[39;00m (\n\u001b[1;32m    221\u001b[0m         left\u001b[38;5;241m.\u001b[39mdtype \u001b[38;5;241m==\u001b[39m \u001b[38;5;28mobject\u001b[39m \u001b[38;5;129;01mor\u001b[39;00m \u001b[38;5;28mgetattr\u001b[39m(right, \u001b[38;5;124m\"\u001b[39m\u001b[38;5;124mdtype\u001b[39m\u001b[38;5;124m\"\u001b[39m, \u001b[38;5;28;01mNone\u001b[39;00m) \u001b[38;5;241m==\u001b[39m \u001b[38;5;28mobject\u001b[39m\n\u001b[1;32m    222\u001b[0m     ):\n\u001b[0;32m   (...)\u001b[0m\n\u001b[1;32m    225\u001b[0m         \u001b[38;5;66;03m# Don't do this for comparisons, as that will handle complex numbers\u001b[39;00m\n\u001b[1;32m    226\u001b[0m         \u001b[38;5;66;03m#  incorrectly, see GH#32047\u001b[39;00m\n\u001b[0;32m--> 227\u001b[0m         result \u001b[38;5;241m=\u001b[39m \u001b[43m_masked_arith_op\u001b[49m\u001b[43m(\u001b[49m\u001b[43mleft\u001b[49m\u001b[43m,\u001b[49m\u001b[43m \u001b[49m\u001b[43mright\u001b[49m\u001b[43m,\u001b[49m\u001b[43m \u001b[49m\u001b[43mop\u001b[49m\u001b[43m)\u001b[49m\n\u001b[1;32m    228\u001b[0m     \u001b[38;5;28;01melse\u001b[39;00m:\n\u001b[1;32m    229\u001b[0m         \u001b[38;5;28;01mraise\u001b[39;00m\n",
            "File \u001b[0;32m/lib/python3.12/site-packages/pandas/core/ops/array_ops.py:163\u001b[0m, in \u001b[0;36m_masked_arith_op\u001b[0;34m(x, y, op)\u001b[0m\n\u001b[1;32m    161\u001b[0m     \u001b[38;5;66;03m# See GH#5284, GH#5035, GH#19448 for historical reference\u001b[39;00m\n\u001b[1;32m    162\u001b[0m     \u001b[38;5;28;01mif\u001b[39;00m mask\u001b[38;5;241m.\u001b[39many():\n\u001b[0;32m--> 163\u001b[0m         result[mask] \u001b[38;5;241m=\u001b[39m \u001b[43mop\u001b[49m\u001b[43m(\u001b[49m\u001b[43mxrav\u001b[49m\u001b[43m[\u001b[49m\u001b[43mmask\u001b[49m\u001b[43m]\u001b[49m\u001b[43m,\u001b[49m\u001b[43m \u001b[49m\u001b[43myrav\u001b[49m\u001b[43m[\u001b[49m\u001b[43mmask\u001b[49m\u001b[43m]\u001b[49m\u001b[43m)\u001b[49m\n\u001b[1;32m    165\u001b[0m \u001b[38;5;28;01melse\u001b[39;00m:\n\u001b[1;32m    166\u001b[0m     \u001b[38;5;28;01mif\u001b[39;00m \u001b[38;5;129;01mnot\u001b[39;00m is_scalar(y):\n",
            "\u001b[0;31mTypeError\u001b[0m: unsupported operand type(s) for /: 'int' and 'str'"
          ],
          "output_type": "error"
        }
      ],
      "execution_count": 104
    },
    {
      "cell_type": "code",
      "source": "print(df[['Sales Quantity', 'Current Stock Level']].dtypes)\n",
      "metadata": {
        "trusted": true
      },
      "outputs": [
        {
          "name": "stdout",
          "text": "Sales Quantity         object\nCurrent Stock Level    object\ndtype: object\n",
          "output_type": "stream"
        }
      ],
      "execution_count": 105
    },
    {
      "cell_type": "code",
      "source": "df['Sales Quantity'] = pd.to_numeric(df['Sales Quantity'], errors='coerce')\ndf['Current Stock Level'] = pd.to_numeric(df['Current Stock Level'], errors='coerce')\n",
      "metadata": {
        "trusted": true
      },
      "outputs": [],
      "execution_count": 106
    },
    {
      "cell_type": "code",
      "source": "print(df[['Sales Quantity', 'Current Stock Level']].isna().sum())\n",
      "metadata": {
        "trusted": true
      },
      "outputs": [
        {
          "name": "stdout",
          "text": "Sales Quantity         2\nCurrent Stock Level    2\ndtype: int64\n",
          "output_type": "stream"
        }
      ],
      "execution_count": 107
    },
    {
      "cell_type": "code",
      "source": "df['Sales Quantity'].fillna(0, inplace=True)\ndf['Current Stock Level'].fillna(0, inplace=True)\n",
      "metadata": {
        "trusted": true
      },
      "outputs": [
        {
          "name": "stderr",
          "text": "<ipython-input-108-5d48d4e250bd>:1: FutureWarning: A value is trying to be set on a copy of a DataFrame or Series through chained assignment using an inplace method.\nThe behavior will change in pandas 3.0. This inplace method will never work because the intermediate object on which we are setting values always behaves as a copy.\n\nFor example, when doing 'df[col].method(value, inplace=True)', try using 'df.method({col: value}, inplace=True)' or df[col] = df[col].method(value) instead, to perform the operation inplace on the original object.\n\n\n  df['Sales Quantity'].fillna(0, inplace=True)\n<ipython-input-108-5d48d4e250bd>:2: FutureWarning: A value is trying to be set on a copy of a DataFrame or Series through chained assignment using an inplace method.\nThe behavior will change in pandas 3.0. This inplace method will never work because the intermediate object on which we are setting values always behaves as a copy.\n\nFor example, when doing 'df[col].method(value, inplace=True)', try using 'df.method({col: value}, inplace=True)' or df[col] = df[col].method(value) instead, to perform the operation inplace on the original object.\n\n\n  df['Current Stock Level'].fillna(0, inplace=True)\n",
          "output_type": "stream"
        }
      ],
      "execution_count": 108
    },
    {
      "cell_type": "code",
      "source": "df['Stock Turnover Rate'] = df['Sales Quantity'] / df['Current Stock Level']\n",
      "metadata": {
        "trusted": true
      },
      "outputs": [],
      "execution_count": 109
    },
    {
      "cell_type": "code",
      "source": "df['Average Sale Price'] = df['Sales Revenue'] / df['Sales Quantity']\n",
      "metadata": {
        "trusted": true
      },
      "outputs": [],
      "execution_count": 110
    },
    {
      "cell_type": "code",
      "source": "df['Days to Sell Inventory'] = df['Current Stock Level'] / (df['Sales Quantity'] / 365)\n",
      "metadata": {
        "trusted": true
      },
      "outputs": [],
      "execution_count": 111
    },
    {
      "cell_type": "code",
      "source": "# Sample DataFrame creation (replace with your actual data)\ndata = {\n    'S.No': [1, 2, 3, 4, 5],\n    'Item Code': ['AC1', 'OP-11-S', 'OP-14-S', 'WT22', 'CS04'],\n    'Item Name': ['AIR CONDITIONER', \n                  'BATHSENSE OP-11-S SINGLE PIECE S TRAP 220MM', \n                  'BATHSENSE OP-14-S SINGLE PIECE S TRAP 225MM', \n                  'BOTTLE TRAP', \n                  'CARYSIL BIG BOWL SINK NERA 24x18'],\n    'Group': ['Primary', 'SANITARY', 'SANITARY', 'CP', 'SANITARY'],\n    'Brand': ['Primary', 'ESS ESS', 'ESS ESS', 'WATER-TEC', 'CARYSIL'],\n    'Model': ['Primary', 'Primary', 'Primary', 'Primary', 'BIG BOWL'],\n    'MRP': [5000, 9750, 9750, 523, 11550],\n    'Net Sal Qty': [2, 7, 3, 23, 14],\n    'Close Qty': [2, 0, 3, 4, 2],\n    'Close Val': [0, 1195.2, 0, 1195.2, 12712.02]\n}\n\ndf = pd.DataFrame(data)\n\n# Feature engineering\ndf['Sales Quantity'] = df['Net Sal Qty']\ndf['Current Stock Level'] = df['Close Qty']\ndf['Sales Revenue'] = df['Sales Quantity'] * df['MRP']\ndf['Stock Turnover Rate'] = df['Sales Quantity'] / df['Current Stock Level'].replace(0, 1)  # Avoid division by zero\ndf['Average Sale Price'] = df['Sales Revenue'] / df['Sales Quantity'].replace(0, 1)  # Avoid division by zero\n\n# Display the updated DataFrame\nprint(df[['Item Code', 'Sales Quantity', 'Current Stock Level', 'Sales Revenue', 'Stock Turnover Rate', 'Average Sale Price']])",
      "metadata": {
        "trusted": true
      },
      "outputs": [
        {
          "name": "stdout",
          "text": "  Item Code  Sales Quantity  Current Stock Level  Sales Revenue  \\\n0       AC1               2                    2          10000   \n1   OP-11-S               7                    0          68250   \n2   OP-14-S               3                    3          29250   \n3      WT22              23                    4          12029   \n4      CS04              14                    2         161700   \n\n   Stock Turnover Rate  Average Sale Price  \n0                 1.00              5000.0  \n1                 7.00              9750.0  \n2                 1.00              9750.0  \n3                 5.75               523.0  \n4                 7.00             11550.0  \n",
          "output_type": "stream"
        }
      ],
      "execution_count": 112
    },
    {
      "cell_type": "code",
      "source": "print(df)",
      "metadata": {
        "trusted": true
      },
      "outputs": [
        {
          "name": "stdout",
          "text": "   S.No Item Code                                    Item Name     Group  \\\n0     1       AC1                              AIR CONDITIONER   Primary   \n1     2   OP-11-S  BATHSENSE OP-11-S SINGLE PIECE S TRAP 220MM  SANITARY   \n2     3   OP-14-S  BATHSENSE OP-14-S SINGLE PIECE S TRAP 225MM  SANITARY   \n3     4      WT22                                  BOTTLE TRAP        CP   \n4     5      CS04             CARYSIL BIG BOWL SINK NERA 24x18  SANITARY   \n\n       Brand     Model    MRP  Net Sal Qty  Close Qty  Close Val  \\\n0    Primary   Primary   5000            2          2       0.00   \n1    ESS ESS   Primary   9750            7          0    1195.20   \n2    ESS ESS   Primary   9750            3          3       0.00   \n3  WATER-TEC   Primary    523           23          4    1195.20   \n4    CARYSIL  BIG BOWL  11550           14          2   12712.02   \n\n   Sales Quantity  Current Stock Level  Sales Revenue  Stock Turnover Rate  \\\n0               2                    2          10000                 1.00   \n1               7                    0          68250                 7.00   \n2               3                    3          29250                 1.00   \n3              23                    4          12029                 5.75   \n4              14                    2         161700                 7.00   \n\n   Average Sale Price  \n0              5000.0  \n1              9750.0  \n2              9750.0  \n3               523.0  \n4             11550.0  \n",
          "output_type": "stream"
        }
      ],
      "execution_count": 113
    },
    {
      "cell_type": "code",
      "source": "df_encoded = pd.get_dummies(df, columns=['Group', 'Brand', 'Model'], drop_first=True)",
      "metadata": {
        "trusted": true
      },
      "outputs": [],
      "execution_count": 114
    },
    {
      "cell_type": "code",
      "source": "X = df_encoded.drop(['Sales Quantity', 'Sales Revenue', 'S.No', 'Item Code', 'Item Name'], axis=1)\ny = df_encoded['Sales Quantity']",
      "metadata": {
        "trusted": true
      },
      "outputs": [],
      "execution_count": 115
    },
    {
      "cell_type": "code",
      "source": "X_train, X_test, y_train, y_test = train_test_split(X, y, test_size=0.2, random_state=42)",
      "metadata": {
        "trusted": true
      },
      "outputs": [],
      "execution_count": 116
    },
    {
      "cell_type": "code",
      "source": "model = RandomForestRegressor()\nmodel.fit(X_train, y_train)",
      "metadata": {
        "trusted": true
      },
      "outputs": [
        {
          "execution_count": 117,
          "output_type": "execute_result",
          "data": {
            "text/plain": "RandomForestRegressor()",
            "text/html": "<style>#sk-container-id-2 {\n  /* Definition of color scheme common for light and dark mode */\n  --sklearn-color-text: black;\n  --sklearn-color-line: gray;\n  /* Definition of color scheme for unfitted estimators */\n  --sklearn-color-unfitted-level-0: #fff5e6;\n  --sklearn-color-unfitted-level-1: #f6e4d2;\n  --sklearn-color-unfitted-level-2: #ffe0b3;\n  --sklearn-color-unfitted-level-3: chocolate;\n  /* Definition of color scheme for fitted estimators */\n  --sklearn-color-fitted-level-0: #f0f8ff;\n  --sklearn-color-fitted-level-1: #d4ebff;\n  --sklearn-color-fitted-level-2: #b3dbfd;\n  --sklearn-color-fitted-level-3: cornflowerblue;\n\n  /* Specific color for light theme */\n  --sklearn-color-text-on-default-background: var(--sg-text-color, var(--theme-code-foreground, var(--jp-content-font-color1, black)));\n  --sklearn-color-background: var(--sg-background-color, var(--theme-background, var(--jp-layout-color0, white)));\n  --sklearn-color-border-box: var(--sg-text-color, var(--theme-code-foreground, var(--jp-content-font-color1, black)));\n  --sklearn-color-icon: #696969;\n\n  @media (prefers-color-scheme: dark) {\n    /* Redefinition of color scheme for dark theme */\n    --sklearn-color-text-on-default-background: var(--sg-text-color, var(--theme-code-foreground, var(--jp-content-font-color1, white)));\n    --sklearn-color-background: var(--sg-background-color, var(--theme-background, var(--jp-layout-color0, #111)));\n    --sklearn-color-border-box: var(--sg-text-color, var(--theme-code-foreground, var(--jp-content-font-color1, white)));\n    --sklearn-color-icon: #878787;\n  }\n}\n\n#sk-container-id-2 {\n  color: var(--sklearn-color-text);\n}\n\n#sk-container-id-2 pre {\n  padding: 0;\n}\n\n#sk-container-id-2 input.sk-hidden--visually {\n  border: 0;\n  clip: rect(1px 1px 1px 1px);\n  clip: rect(1px, 1px, 1px, 1px);\n  height: 1px;\n  margin: -1px;\n  overflow: hidden;\n  padding: 0;\n  position: absolute;\n  width: 1px;\n}\n\n#sk-container-id-2 div.sk-dashed-wrapped {\n  border: 1px dashed var(--sklearn-color-line);\n  margin: 0 0.4em 0.5em 0.4em;\n  box-sizing: border-box;\n  padding-bottom: 0.4em;\n  background-color: var(--sklearn-color-background);\n}\n\n#sk-container-id-2 div.sk-container {\n  /* jupyter's `normalize.less` sets `[hidden] { display: none; }`\n     but bootstrap.min.css set `[hidden] { display: none !important; }`\n     so we also need the `!important` here to be able to override the\n     default hidden behavior on the sphinx rendered scikit-learn.org.\n     See: https://github.com/scikit-learn/scikit-learn/issues/21755 */\n  display: inline-block !important;\n  position: relative;\n}\n\n#sk-container-id-2 div.sk-text-repr-fallback {\n  display: none;\n}\n\ndiv.sk-parallel-item,\ndiv.sk-serial,\ndiv.sk-item {\n  /* draw centered vertical line to link estimators */\n  background-image: linear-gradient(var(--sklearn-color-text-on-default-background), var(--sklearn-color-text-on-default-background));\n  background-size: 2px 100%;\n  background-repeat: no-repeat;\n  background-position: center center;\n}\n\n/* Parallel-specific style estimator block */\n\n#sk-container-id-2 div.sk-parallel-item::after {\n  content: \"\";\n  width: 100%;\n  border-bottom: 2px solid var(--sklearn-color-text-on-default-background);\n  flex-grow: 1;\n}\n\n#sk-container-id-2 div.sk-parallel {\n  display: flex;\n  align-items: stretch;\n  justify-content: center;\n  background-color: var(--sklearn-color-background);\n  position: relative;\n}\n\n#sk-container-id-2 div.sk-parallel-item {\n  display: flex;\n  flex-direction: column;\n}\n\n#sk-container-id-2 div.sk-parallel-item:first-child::after {\n  align-self: flex-end;\n  width: 50%;\n}\n\n#sk-container-id-2 div.sk-parallel-item:last-child::after {\n  align-self: flex-start;\n  width: 50%;\n}\n\n#sk-container-id-2 div.sk-parallel-item:only-child::after {\n  width: 0;\n}\n\n/* Serial-specific style estimator block */\n\n#sk-container-id-2 div.sk-serial {\n  display: flex;\n  flex-direction: column;\n  align-items: center;\n  background-color: var(--sklearn-color-background);\n  padding-right: 1em;\n  padding-left: 1em;\n}\n\n\n/* Toggleable style: style used for estimator/Pipeline/ColumnTransformer box that is\nclickable and can be expanded/collapsed.\n- Pipeline and ColumnTransformer use this feature and define the default style\n- Estimators will overwrite some part of the style using the `sk-estimator` class\n*/\n\n/* Pipeline and ColumnTransformer style (default) */\n\n#sk-container-id-2 div.sk-toggleable {\n  /* Default theme specific background. It is overwritten whether we have a\n  specific estimator or a Pipeline/ColumnTransformer */\n  background-color: var(--sklearn-color-background);\n}\n\n/* Toggleable label */\n#sk-container-id-2 label.sk-toggleable__label {\n  cursor: pointer;\n  display: block;\n  width: 100%;\n  margin-bottom: 0;\n  padding: 0.5em;\n  box-sizing: border-box;\n  text-align: center;\n}\n\n#sk-container-id-2 label.sk-toggleable__label-arrow:before {\n  /* Arrow on the left of the label */\n  content: \"▸\";\n  float: left;\n  margin-right: 0.25em;\n  color: var(--sklearn-color-icon);\n}\n\n#sk-container-id-2 label.sk-toggleable__label-arrow:hover:before {\n  color: var(--sklearn-color-text);\n}\n\n/* Toggleable content - dropdown */\n\n#sk-container-id-2 div.sk-toggleable__content {\n  max-height: 0;\n  max-width: 0;\n  overflow: hidden;\n  text-align: left;\n  /* unfitted */\n  background-color: var(--sklearn-color-unfitted-level-0);\n}\n\n#sk-container-id-2 div.sk-toggleable__content.fitted {\n  /* fitted */\n  background-color: var(--sklearn-color-fitted-level-0);\n}\n\n#sk-container-id-2 div.sk-toggleable__content pre {\n  margin: 0.2em;\n  border-radius: 0.25em;\n  color: var(--sklearn-color-text);\n  /* unfitted */\n  background-color: var(--sklearn-color-unfitted-level-0);\n}\n\n#sk-container-id-2 div.sk-toggleable__content.fitted pre {\n  /* unfitted */\n  background-color: var(--sklearn-color-fitted-level-0);\n}\n\n#sk-container-id-2 input.sk-toggleable__control:checked~div.sk-toggleable__content {\n  /* Expand drop-down */\n  max-height: 200px;\n  max-width: 100%;\n  overflow: auto;\n}\n\n#sk-container-id-2 input.sk-toggleable__control:checked~label.sk-toggleable__label-arrow:before {\n  content: \"▾\";\n}\n\n/* Pipeline/ColumnTransformer-specific style */\n\n#sk-container-id-2 div.sk-label input.sk-toggleable__control:checked~label.sk-toggleable__label {\n  color: var(--sklearn-color-text);\n  background-color: var(--sklearn-color-unfitted-level-2);\n}\n\n#sk-container-id-2 div.sk-label.fitted input.sk-toggleable__control:checked~label.sk-toggleable__label {\n  background-color: var(--sklearn-color-fitted-level-2);\n}\n\n/* Estimator-specific style */\n\n/* Colorize estimator box */\n#sk-container-id-2 div.sk-estimator input.sk-toggleable__control:checked~label.sk-toggleable__label {\n  /* unfitted */\n  background-color: var(--sklearn-color-unfitted-level-2);\n}\n\n#sk-container-id-2 div.sk-estimator.fitted input.sk-toggleable__control:checked~label.sk-toggleable__label {\n  /* fitted */\n  background-color: var(--sklearn-color-fitted-level-2);\n}\n\n#sk-container-id-2 div.sk-label label.sk-toggleable__label,\n#sk-container-id-2 div.sk-label label {\n  /* The background is the default theme color */\n  color: var(--sklearn-color-text-on-default-background);\n}\n\n/* On hover, darken the color of the background */\n#sk-container-id-2 div.sk-label:hover label.sk-toggleable__label {\n  color: var(--sklearn-color-text);\n  background-color: var(--sklearn-color-unfitted-level-2);\n}\n\n/* Label box, darken color on hover, fitted */\n#sk-container-id-2 div.sk-label.fitted:hover label.sk-toggleable__label.fitted {\n  color: var(--sklearn-color-text);\n  background-color: var(--sklearn-color-fitted-level-2);\n}\n\n/* Estimator label */\n\n#sk-container-id-2 div.sk-label label {\n  font-family: monospace;\n  font-weight: bold;\n  display: inline-block;\n  line-height: 1.2em;\n}\n\n#sk-container-id-2 div.sk-label-container {\n  text-align: center;\n}\n\n/* Estimator-specific */\n#sk-container-id-2 div.sk-estimator {\n  font-family: monospace;\n  border: 1px dotted var(--sklearn-color-border-box);\n  border-radius: 0.25em;\n  box-sizing: border-box;\n  margin-bottom: 0.5em;\n  /* unfitted */\n  background-color: var(--sklearn-color-unfitted-level-0);\n}\n\n#sk-container-id-2 div.sk-estimator.fitted {\n  /* fitted */\n  background-color: var(--sklearn-color-fitted-level-0);\n}\n\n/* on hover */\n#sk-container-id-2 div.sk-estimator:hover {\n  /* unfitted */\n  background-color: var(--sklearn-color-unfitted-level-2);\n}\n\n#sk-container-id-2 div.sk-estimator.fitted:hover {\n  /* fitted */\n  background-color: var(--sklearn-color-fitted-level-2);\n}\n\n/* Specification for estimator info (e.g. \"i\" and \"?\") */\n\n/* Common style for \"i\" and \"?\" */\n\n.sk-estimator-doc-link,\na:link.sk-estimator-doc-link,\na:visited.sk-estimator-doc-link {\n  float: right;\n  font-size: smaller;\n  line-height: 1em;\n  font-family: monospace;\n  background-color: var(--sklearn-color-background);\n  border-radius: 1em;\n  height: 1em;\n  width: 1em;\n  text-decoration: none !important;\n  margin-left: 1ex;\n  /* unfitted */\n  border: var(--sklearn-color-unfitted-level-1) 1pt solid;\n  color: var(--sklearn-color-unfitted-level-1);\n}\n\n.sk-estimator-doc-link.fitted,\na:link.sk-estimator-doc-link.fitted,\na:visited.sk-estimator-doc-link.fitted {\n  /* fitted */\n  border: var(--sklearn-color-fitted-level-1) 1pt solid;\n  color: var(--sklearn-color-fitted-level-1);\n}\n\n/* On hover */\ndiv.sk-estimator:hover .sk-estimator-doc-link:hover,\n.sk-estimator-doc-link:hover,\ndiv.sk-label-container:hover .sk-estimator-doc-link:hover,\n.sk-estimator-doc-link:hover {\n  /* unfitted */\n  background-color: var(--sklearn-color-unfitted-level-3);\n  color: var(--sklearn-color-background);\n  text-decoration: none;\n}\n\ndiv.sk-estimator.fitted:hover .sk-estimator-doc-link.fitted:hover,\n.sk-estimator-doc-link.fitted:hover,\ndiv.sk-label-container:hover .sk-estimator-doc-link.fitted:hover,\n.sk-estimator-doc-link.fitted:hover {\n  /* fitted */\n  background-color: var(--sklearn-color-fitted-level-3);\n  color: var(--sklearn-color-background);\n  text-decoration: none;\n}\n\n/* Span, style for the box shown on hovering the info icon */\n.sk-estimator-doc-link span {\n  display: none;\n  z-index: 9999;\n  position: relative;\n  font-weight: normal;\n  right: .2ex;\n  padding: .5ex;\n  margin: .5ex;\n  width: min-content;\n  min-width: 20ex;\n  max-width: 50ex;\n  color: var(--sklearn-color-text);\n  box-shadow: 2pt 2pt 4pt #999;\n  /* unfitted */\n  background: var(--sklearn-color-unfitted-level-0);\n  border: .5pt solid var(--sklearn-color-unfitted-level-3);\n}\n\n.sk-estimator-doc-link.fitted span {\n  /* fitted */\n  background: var(--sklearn-color-fitted-level-0);\n  border: var(--sklearn-color-fitted-level-3);\n}\n\n.sk-estimator-doc-link:hover span {\n  display: block;\n}\n\n/* \"?\"-specific style due to the `<a>` HTML tag */\n\n#sk-container-id-2 a.estimator_doc_link {\n  float: right;\n  font-size: 1rem;\n  line-height: 1em;\n  font-family: monospace;\n  background-color: var(--sklearn-color-background);\n  border-radius: 1rem;\n  height: 1rem;\n  width: 1rem;\n  text-decoration: none;\n  /* unfitted */\n  color: var(--sklearn-color-unfitted-level-1);\n  border: var(--sklearn-color-unfitted-level-1) 1pt solid;\n}\n\n#sk-container-id-2 a.estimator_doc_link.fitted {\n  /* fitted */\n  border: var(--sklearn-color-fitted-level-1) 1pt solid;\n  color: var(--sklearn-color-fitted-level-1);\n}\n\n/* On hover */\n#sk-container-id-2 a.estimator_doc_link:hover {\n  /* unfitted */\n  background-color: var(--sklearn-color-unfitted-level-3);\n  color: var(--sklearn-color-background);\n  text-decoration: none;\n}\n\n#sk-container-id-2 a.estimator_doc_link.fitted:hover {\n  /* fitted */\n  background-color: var(--sklearn-color-fitted-level-3);\n}\n</style><div id=\"sk-container-id-2\" class=\"sk-top-container\"><div class=\"sk-text-repr-fallback\"><pre>RandomForestRegressor()</pre><b>In a Jupyter environment, please rerun this cell to show the HTML representation or trust the notebook. <br />On GitHub, the HTML representation is unable to render, please try loading this page with nbviewer.org.</b></div><div class=\"sk-container\" hidden><div class=\"sk-item\"><div class=\"sk-estimator fitted sk-toggleable\"><input class=\"sk-toggleable__control sk-hidden--visually\" id=\"sk-estimator-id-2\" type=\"checkbox\" checked><label for=\"sk-estimator-id-2\" class=\"sk-toggleable__label fitted sk-toggleable__label-arrow fitted\">&nbsp;&nbsp;RandomForestRegressor<a class=\"sk-estimator-doc-link fitted\" rel=\"noreferrer\" target=\"_blank\" href=\"https://scikit-learn.org/1.4/modules/generated/sklearn.ensemble.RandomForestRegressor.html\">?<span>Documentation for RandomForestRegressor</span></a><span class=\"sk-estimator-doc-link fitted\">i<span>Fitted</span></span></label><div class=\"sk-toggleable__content fitted\"><pre>RandomForestRegressor()</pre></div> </div></div></div></div>"
          },
          "metadata": {}
        }
      ],
      "execution_count": 117
    },
    {
      "cell_type": "code",
      "source": "y_pred = model.predict(X_test)",
      "metadata": {
        "trusted": true
      },
      "outputs": [],
      "execution_count": 118
    },
    {
      "cell_type": "code",
      "source": "mae = mean_absolute_error(y_test, y_pred)\nrmse = mean_squared_error(y_test, y_pred, squared=False)",
      "metadata": {
        "trusted": true
      },
      "outputs": [
        {
          "name": "stderr",
          "text": "/lib/python3.12/site-packages/sklearn/metrics/_regression.py:483: FutureWarning: 'squared' is deprecated in version 1.4 and will be removed in 1.6. To calculate the root mean squared error, use the function'root_mean_squared_error'.\n  warnings.warn(\n",
          "output_type": "stream"
        }
      ],
      "execution_count": 119
    },
    {
      "cell_type": "code",
      "source": "print(f'Mean Absolute Error: {mae}, Root Mean Squared Error: {rmse}')",
      "metadata": {
        "trusted": true
      },
      "outputs": [
        {
          "name": "stdout",
          "text": "Mean Absolute Error: 2.7200000000000006, Root Mean Squared Error: 2.7200000000000006\n",
          "output_type": "stream"
        }
      ],
      "execution_count": 120
    },
    {
      "cell_type": "code",
      "source": "from sklearn.preprocessing import OneHotEncoder\ndef predict_revenue(input_data, encoder, model):\n    # Prepare the features for prediction\n    # Only include necessary columns for prediction\n    features = ['Net Sal Qty', 'MRP', 'Close Qty', 'Close Val', 'Item Code', 'Group', 'Brand']\n    \n    # Extract the relevant features\n    X_new = input_data[features]\n    \n    # Perform one-hot encoding for categorical features using the fitted encoder\n    X_new_encoded = encoder.transform(X_new[['Item Code', 'Group', 'Brand']])\n    \n    # Combine with numerical features\n    X_new_final = np.hstack((X_new[['Net Sal Qty', 'MRP', 'Close Qty', 'Close Val']].values, X_new_encoded))\n    \n    # Ensure X_new_final has the same number of features as the model expects\n    if X_new_final.shape[1] != model.n_features_in_:\n        raise ValueError(f\"Expected {model.n_features_in_} features but got {X_new_final.shape[1]}.\")\n    \n    # Make predictions using the trained model\n    predictions = model.predict(X_new_final)\n    \n    # Add predictions to the input DataFrame\n    input_data['Predicted Revenue'] = predictions\n    \n    return input_data",
      "metadata": {
        "trusted": true
      },
      "outputs": [],
      "execution_count": 121
    },
    {
      "cell_type": "code",
      "source": "# Sample data for prediction with only the necessary columns\nnew_data = {\n    'S.No': [1, 2, 3, 4, 5],\n    'Item Code': ['AC1', 'OP-11-S', 'OP-14-S', 'WT22', 'CS04'],\n    'Group': ['Primary', 'SANITARY', 'SANITARY', 'CP', 'SANITARY'],\n    'Brand': ['Primary', 'ESS ESS', 'ESS ESS', 'WATER-TEC', 'CARYSIL'],\n    'MRP': [5000, 9750, 9750, 523, 11550],\n    'Net Sal Qty': [2, 7, 3, 23, 14],\n    'Close Qty': [2, 0, 3, 4, 2],\n    'Close Val': [0, 1195.2, 0, 1195.2, 12712.02],\n}\n\n# Create a DataFrame\ndf_new = pd.DataFrame(new_data)\n\n# Run predictions using the fitted encoder\npredicted_results = predict_revenue(df_new, encoder, model)\n\n# Display the results\nprint(predicted_results[['Item Code', 'Predicted Revenue']])\n",
      "metadata": {
        "trusted": true
      },
      "outputs": [
        {
          "ename": "<class 'NameError'>",
          "evalue": "name 'encoder' is not defined",
          "traceback": [
            "\u001b[0;31m---------------------------------------------------------------------------\u001b[0m",
            "\u001b[0;31mNameError\u001b[0m                                 Traceback (most recent call last)",
            "Cell \u001b[0;32mIn[122], line 17\u001b[0m\n\u001b[1;32m     14\u001b[0m df_new \u001b[38;5;241m=\u001b[39m pd\u001b[38;5;241m.\u001b[39mDataFrame(new_data)\n\u001b[1;32m     16\u001b[0m \u001b[38;5;66;03m# Run predictions using the fitted encoder\u001b[39;00m\n\u001b[0;32m---> 17\u001b[0m predicted_results \u001b[38;5;241m=\u001b[39m predict_revenue(df_new, \u001b[43mencoder\u001b[49m, model)\n\u001b[1;32m     19\u001b[0m \u001b[38;5;66;03m# Display the results\u001b[39;00m\n\u001b[1;32m     20\u001b[0m \u001b[38;5;28mprint\u001b[39m(predicted_results[[\u001b[38;5;124m'\u001b[39m\u001b[38;5;124mItem Code\u001b[39m\u001b[38;5;124m'\u001b[39m, \u001b[38;5;124m'\u001b[39m\u001b[38;5;124mPredicted Revenue\u001b[39m\u001b[38;5;124m'\u001b[39m]])\n",
            "\u001b[0;31mNameError\u001b[0m: name 'encoder' is not defined"
          ],
          "output_type": "error"
        }
      ],
      "execution_count": 122
    },
    {
      "cell_type": "code",
      "source": "",
      "metadata": {
        "trusted": true
      },
      "outputs": [],
      "execution_count": null
    },
    {
      "cell_type": "code",
      "source": "",
      "metadata": {
        "trusted": true
      },
      "outputs": [],
      "execution_count": null
    },
    {
      "cell_type": "code",
      "source": "",
      "metadata": {
        "trusted": true
      },
      "outputs": [],
      "execution_count": null
    }
  ]
}